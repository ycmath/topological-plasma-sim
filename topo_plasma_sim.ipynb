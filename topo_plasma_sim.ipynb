# test
{
 "cells": [
  {
   "cell_type": "markdown",
   "id": "7ec74021",
   "metadata": {},
   "source": [
    "\n",
    "# Topological Plasma Simulation\n",
    "\n",
    "This Colab notebook simulates a simplified topological plasma structure using:\n",
    "- A **resonant core** (with high-frequency oscillation)\n",
    "- A **tornado shell** (rotating absorption layer)\n",
    "- An **outer cloud layer** (where damping occurs)\n",
    "\n",
    "The simulation visualizes how particles interact in these zones over time.\n",
    "\n",
    "---\n"
   ]
  },
  {
   "cell_type": "code",
   "execution_count": null,
   "id": "d755929a",
   "metadata": {},
   "outputs": [],
   "source": [
    "\n",
    "import numpy as np\n",
    "import matplotlib.pyplot as plt\n",
    "import matplotlib.animation as animation\n",
    "\n",
    "grid_size = 100\n",
    "num_particles = 5000\n",
    "steps = 200\n",
    "dt = 0.1\n",
    "\n",
    "np.random.seed(42)\n",
    "x = np.random.normal(loc=grid_size/2, scale=10, size=num_particles)\n",
    "y = np.random.normal(loc=grid_size/2, scale=10, size=num_particles)\n",
    "\n",
    "vx = -(y - grid_size/2) * 0.05\n",
    "vy =  (x - grid_size/2) * 0.05\n",
    "\n",
    "positions = []\n",
    "\n",
    "core_radius = 10\n",
    "cloud_radius = 40\n",
    "\n",
    "for _ in range(steps):\n",
    "    r = np.sqrt((x - grid_size/2)**2 + (y - grid_size/2)**2)\n",
    "\n",
    "    resonance_zone = r < core_radius\n",
    "    vx[resonance_zone] *= 1.02\n",
    "    vy[resonance_zone] *= 1.02\n",
    "\n",
    "    damping_zone = r > cloud_radius\n",
    "    vx[damping_zone] *= 0.95\n",
    "    vy[damping_zone] *= 0.95\n",
    "\n",
    "    x += vx * dt\n",
    "    y += vy * dt\n",
    "\n",
    "    positions.append((x.copy(), y.copy()))\n"
   ]
  },
  {
   "cell_type": "code",
   "execution_count": null,
   "id": "99590e32",
   "metadata": {},
   "outputs": [],
   "source": [
    "\n",
    "fig, ax = plt.subplots(figsize=(6, 6))\n",
    "scat = ax.scatter([], [], s=1)\n",
    "\n",
    "def init():\n",
    "    ax.set_xlim(0, grid_size)\n",
    "    ax.set_ylim(0, grid_size)\n",
    "    return scat,\n",
    "\n",
    "def update(frame):\n",
    "    xdata, ydata = positions[frame]\n",
    "    scat.set_offsets(np.c_[xdata, ydata])\n",
    "    return scat,\n",
    "\n",
    "ani = animation.FuncAnimation(fig, update, frames=steps, init_func=init, blit=True)\n",
    "from IPython.display import HTML\n",
    "HTML(ani.to_jshtml())\n"
   ]
  }
 ],
 "metadata": {},
 "nbformat": 4,
 "nbformat_minor": 5
}

